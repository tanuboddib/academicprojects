{
 "cells": [
  {
   "cell_type": "code",
   "execution_count": 37,
   "id": "33b81399",
   "metadata": {},
   "outputs": [],
   "source": [
    "import pandas as pd\n",
    "\n",
    "symbols_data = pd.read_excel(\"/Users/reddybr/Desktop/NYSE_and_NYSE_MKT_Trading_Units_Daily_File.xlsx\")\n",
    "\n",
    "symbol_data = symbols_data.to_numpy()\n",
    "\n",
    "symbols = []\n",
    "\n",
    "for row in symbol_data:\n",
    "    symbols.append(row[1])"
   ]
  },
  {
   "cell_type": "code",
   "execution_count": 23,
   "id": "7708642e",
   "metadata": {},
   "outputs": [
    {
     "data": {
      "text/plain": [
       "11634"
      ]
     },
     "execution_count": 23,
     "metadata": {},
     "output_type": "execute_result"
    }
   ],
   "source": [
    "len(symbols)"
   ]
  },
  {
   "cell_type": "code",
   "execution_count": 27,
   "id": "51e4fb5d",
   "metadata": {},
   "outputs": [],
   "source": [
    "interested_symbols = []\n",
    "count = 0;\n",
    "for sym in symbols:\n",
    "    if count%100 == 0:\n",
    "        interested_symbols.append(sym)\n",
    "    count = count+1\n"
   ]
  },
  {
   "cell_type": "code",
   "execution_count": 29,
   "id": "5f6ceb88",
   "metadata": {},
   "outputs": [
    {
     "data": {
      "text/plain": [
       "117"
      ]
     },
     "execution_count": 29,
     "metadata": {},
     "output_type": "execute_result"
    }
   ],
   "source": [
    "len(interested_symbols)"
   ]
  },
  {
   "cell_type": "code",
   "execution_count": 46,
   "id": "ec3bf3dc",
   "metadata": {},
   "outputs": [],
   "source": [
    "liquid_syms = ['MMM', 'AXP', 'AAPL', 'BA', 'CAT', 'CVX', 'CSCO', 'KO', 'DIS', 'XOM', 'GE', 'GS', 'HD', 'IBM', 'INTC', \n",
    "               'JNJ', 'JPM', 'MCD', 'MRK', 'MSFT', 'NKE', 'PFE', 'PG', 'TRV', 'UTX', 'UNH', 'VZ', 'WMT', 'GOOGL',\n",
    "               'AMZN', 'AABA']\n",
    "\n",
    "interested_symbols_data = []\n",
    "\n",
    "for row in symbol_data:\n",
    "    if row[1] in interested_symbols or row[1] in liquid_syms:\n",
    "        interested_symbols_data.append(row)"
   ]
  },
  {
   "cell_type": "code",
   "execution_count": 47,
   "id": "e43bed82",
   "metadata": {},
   "outputs": [],
   "source": [
    "import numpy as np\n",
    "\n",
    "interested_symbols_data = pd.DataFrame(interested_symbols_data)\n",
    "\n",
    "interested_symbols_data.to_excel(\"/Users/reddybr/Desktop/NYSE_interested_symbols.xlsx\")\n"
   ]
  },
  {
   "cell_type": "code",
   "execution_count": null,
   "id": "ac1e224a",
   "metadata": {},
   "outputs": [],
   "source": []
  },
  {
   "cell_type": "code",
   "execution_count": null,
   "id": "9d8a8bce",
   "metadata": {},
   "outputs": [],
   "source": []
  },
  {
   "cell_type": "code",
   "execution_count": null,
   "id": "35bdca02",
   "metadata": {},
   "outputs": [],
   "source": []
  }
 ],
 "metadata": {
  "kernelspec": {
   "display_name": "Python 3 (ipykernel)",
   "language": "python",
   "name": "python3"
  },
  "language_info": {
   "codemirror_mode": {
    "name": "ipython",
    "version": 3
   },
   "file_extension": ".py",
   "mimetype": "text/x-python",
   "name": "python",
   "nbconvert_exporter": "python",
   "pygments_lexer": "ipython3",
   "version": "3.11.0"
  }
 },
 "nbformat": 4,
 "nbformat_minor": 5
}
